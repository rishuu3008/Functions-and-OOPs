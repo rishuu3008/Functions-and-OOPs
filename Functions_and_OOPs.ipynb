{
 "cells": [
  {
   "cell_type": "code",
   "execution_count": 70,
   "id": "10118e69-3a80-4733-bbf1-add47e8b53d0",
   "metadata": {},
   "outputs": [],
   "source": [
    "# Question 1.) Explain the importance of function.\n",
    "\n",
    "# Answer >> Fucntions are the block of code that helps to maintaine code readability and efficiency as they can be used multiple times when\n",
    "#           needed without the need of writing them again and again."
   ]
  },
  {
   "cell_type": "code",
   "execution_count": 6,
   "id": "2260fef1-9585-4b80-9334-a054ca1a5460",
   "metadata": {},
   "outputs": [
    {
     "name": "stdout",
     "output_type": "stream",
     "text": [
      "Good morning\n"
     ]
    }
   ],
   "source": [
    "# Question 2.) Write a basic function to greet students.\n",
    "\n",
    "def greet():\n",
    "    print(\"Good morning\")\n",
    "    \n",
    "greet()"
   ]
  },
  {
   "cell_type": "code",
   "execution_count": 71,
   "id": "411bff7b-7461-4435-8dd7-6659581808a3",
   "metadata": {},
   "outputs": [],
   "source": [
    "# Question 3.) What is the difference between print and return statement?\n",
    "\n",
    "# Answer >> The print function prints the given input within the function itself while the return statement returns the required output\n",
    "#           where the function is called which can be printed directly or can be stored in a variable for further use."
   ]
  },
  {
   "cell_type": "code",
   "execution_count": 14,
   "id": "15925510-f4ae-4fa2-bb25-3f804c815b01",
   "metadata": {},
   "outputs": [],
   "source": [
    "# Question 4.) What are *args and **kwargs?\n",
    "\n",
    "# Answer >> 1.) args* :- It is used for passing variable length arguments to a function.\n",
    "#           2.) **kwargs :- It is used to pass variable length key value pair arguments to a function."
   ]
  },
  {
   "cell_type": "code",
   "execution_count": 15,
   "id": "8b211492-34ed-45d7-9b6b-0830ff37f3db",
   "metadata": {},
   "outputs": [],
   "source": [
    "# Question 5.) Explain the iterator function.\n",
    "\n",
    "# Answer >> Iterator function is used to iterate over iterable objects like lists, tuples, dictionaries, etc. Python has an inbuilt function \n",
    "#           denoted by iter(). It returns an object of iterable function and next() function is used for iterating over the iterable object\n",
    "#           using that iterator object.\n",
    "        \n",
    "#         Example :- iter_obj = iter([1,2,3,4,5])\n",
    "        \n",
    "#                    while True:\n",
    "#                        try:\n",
    "#                         print(next(iter_obj))\n",
    "#                        except StopIteratio:\n",
    "#                         break"
   ]
  },
  {
   "cell_type": "code",
   "execution_count": 16,
   "id": "a04eeca7-bd26-4347-8875-45cf435b27e8",
   "metadata": {},
   "outputs": [
    {
     "name": "stdout",
     "output_type": "stream",
     "text": [
      "1\n",
      "4\n",
      "9\n",
      "16\n",
      "25\n"
     ]
    }
   ],
   "source": [
    "# Question 6.) Write a code that generates the squares of numbers from 1 to n using a generator.\n",
    "\n",
    "def generator(n):\n",
    "    i = 1\n",
    "    while i<=n:\n",
    "        yield i**2\n",
    "        i = i+1\n",
    "        \n",
    "for i in generator(5):\n",
    "    print(i)"
   ]
  },
  {
   "cell_type": "code",
   "execution_count": 17,
   "id": "5503ed2b-1333-47a8-999f-06ac387ea13f",
   "metadata": {},
   "outputs": [
    {
     "name": "stdout",
     "output_type": "stream",
     "text": [
      "1\n",
      "2\n",
      "3\n",
      "4\n",
      "5\n",
      "6\n",
      "7\n",
      "8\n",
      "9\n",
      "11\n",
      "22\n",
      "33\n",
      "44\n"
     ]
    }
   ],
   "source": [
    "# Question 7.) Write a code that generates palindromic numbers upto n using generator.\n",
    "\n",
    "def isPalindrome(num):\n",
    "    return str(num) == str(num)[::-1]\n",
    "\n",
    "def palindrome_generator(n):\n",
    "    for i in range(1,n+1):\n",
    "        if isPalindrome(i):\n",
    "            yield i\n",
    "            \n",
    "            \n",
    "obj = palindrome_generator(50)\n",
    "\n",
    "for i in obj:\n",
    "    print(i)"
   ]
  },
  {
   "cell_type": "code",
   "execution_count": 18,
   "id": "74799132-51a2-4ab4-95b3-59d8456ce0d7",
   "metadata": {},
   "outputs": [
    {
     "name": "stdout",
     "output_type": "stream",
     "text": [
      "2\n",
      "4\n",
      "6\n",
      "8\n",
      "10\n",
      "12\n",
      "14\n"
     ]
    }
   ],
   "source": [
    "# Question 8.) Write a code that generates even numbers from 2 to n using a generators.\n",
    "\n",
    "def isEven(num):\n",
    "    return num % 2 == 0\n",
    "\n",
    "def even_generator(n):\n",
    "    for i in range(2,n+1):\n",
    "        if isEven(i):\n",
    "            yield i\n",
    "            \n",
    "obj = even_generator(15)\n",
    "\n",
    "for i in obj:\n",
    "    print(i)"
   ]
  },
  {
   "cell_type": "code",
   "execution_count": 19,
   "id": "bb2b9ef7-ad95-4b35-9d00-3fd01fbd8370",
   "metadata": {},
   "outputs": [
    {
     "name": "stdout",
     "output_type": "stream",
     "text": [
      "1\n",
      "2\n",
      "4\n",
      "8\n",
      "16\n",
      "32\n"
     ]
    }
   ],
   "source": [
    "# Question 9.) Write a code that generates power of 2 upto n using a generator.\n",
    "\n",
    "def is_power_of_two(num):\n",
    "    return num & (num-1) == 0\n",
    "\n",
    "def power_generator(n):\n",
    "    for i in range(1,n+1):\n",
    "        if is_power_of_two(i):\n",
    "            yield i\n",
    "            \n",
    "            \n",
    "obj = power_generator(50)\n",
    "\n",
    "for i in obj:\n",
    "    print(i)"
   ]
  },
  {
   "cell_type": "code",
   "execution_count": 20,
   "id": "b446173b-db53-4314-a640-cf2fad2e510e",
   "metadata": {},
   "outputs": [
    {
     "name": "stdout",
     "output_type": "stream",
     "text": [
      "1\n",
      "2\n",
      "3\n",
      "5\n",
      "7\n",
      "11\n",
      "13\n",
      "17\n",
      "19\n",
      "23\n",
      "29\n",
      "31\n",
      "37\n",
      "41\n",
      "43\n",
      "47\n"
     ]
    }
   ],
   "source": [
    "# Question 10.) Write a code that generates prime numbers upto n using a generator.\n",
    "\n",
    "def is_prime(num):\n",
    "    for i in range(2,num):\n",
    "        if num % i == 0:\n",
    "            return False\n",
    "    return True\n",
    "\n",
    "def prime_generator(n):\n",
    "    for i in range(1,n+1):\n",
    "        if  is_prime(i):\n",
    "            yield i\n",
    "            \n",
    "obj = prime_generator(50)\n",
    "\n",
    "for i in obj:\n",
    "    print(i)"
   ]
  },
  {
   "cell_type": "code",
   "execution_count": 21,
   "id": "bdb0d572-4bde-49f8-bc99-181fe7832622",
   "metadata": {},
   "outputs": [
    {
     "data": {
      "text/plain": [
       "5"
      ]
     },
     "execution_count": 21,
     "metadata": {},
     "output_type": "execute_result"
    }
   ],
   "source": [
    "# Question 11.) Write a code that uses a lambda function to calculate the sum of two numbers.\n",
    "\n",
    "add = lambda x,y: x+y\n",
    "\n",
    "add(2,3)"
   ]
  },
  {
   "cell_type": "code",
   "execution_count": 22,
   "id": "f0165c9b-29d0-47c3-b852-0eeb533430f4",
   "metadata": {},
   "outputs": [
    {
     "data": {
      "text/plain": [
       "25"
      ]
     },
     "execution_count": 22,
     "metadata": {},
     "output_type": "execute_result"
    }
   ],
   "source": [
    "# Question 12.) Write a code that uses a lambda function to calculate the square of a given number.\n",
    "\n",
    "sq = lambda x : x**2\n",
    "\n",
    "sq(5)"
   ]
  },
  {
   "cell_type": "code",
   "execution_count": 23,
   "id": "832b3fd2-2c28-4594-8952-f48600d52b35",
   "metadata": {},
   "outputs": [
    {
     "data": {
      "text/plain": [
       "'Odd'"
      ]
     },
     "execution_count": 23,
     "metadata": {},
     "output_type": "execute_result"
    }
   ],
   "source": [
    "# Question 13.) Write a code that uses a lambda function to check wheather a given number is odd or even.\n",
    "\n",
    "check = lambda x : \"Even\" if x%2==0 else \"Odd\"\n",
    "\n",
    "check(5)"
   ]
  },
  {
   "cell_type": "code",
   "execution_count": 24,
   "id": "41126f01-cc23-4291-95e5-2bc82d1cd89c",
   "metadata": {},
   "outputs": [
    {
     "data": {
      "text/plain": [
       "'Data Science'"
      ]
     },
     "execution_count": 24,
     "metadata": {},
     "output_type": "execute_result"
    }
   ],
   "source": [
    "# Question 15.) Write a code that uses a lambda function to concatenate two strings.\n",
    "\n",
    "add = lambda x,y : x+\" \"+y\n",
    "\n",
    "add(\"Data\",\"Science\")"
   ]
  },
  {
   "cell_type": "code",
   "execution_count": 25,
   "id": "f7ece2ce-ab4c-448f-9ab0-90e734bab1bc",
   "metadata": {},
   "outputs": [
    {
     "data": {
      "text/plain": [
       "7"
      ]
     },
     "execution_count": 25,
     "metadata": {},
     "output_type": "execute_result"
    }
   ],
   "source": [
    "# Question 16.) Write a code that uses a lambda function to find the maximum of three given numbers.\n",
    "\n",
    "maxi = lambda x,y,z : x if (x>y and x>z) else y if y>z else z\n",
    "\n",
    "maxi(5,6,7)"
   ]
  },
  {
   "cell_type": "code",
   "execution_count": 26,
   "id": "320d30f3-ff2b-4f28-8773-2734d207abc1",
   "metadata": {},
   "outputs": [
    {
     "name": "stdout",
     "output_type": "stream",
     "text": [
      "[4, 16]\n"
     ]
    }
   ],
   "source": [
    "# Question 17.) Write a code that generates the squares of even numbers from a given list.\n",
    "\n",
    "is_even = lambda x : x%2==0\n",
    "\n",
    "sq = lambda x : x**2\n",
    "    \n",
    "lis = [1,2,3,4,5]\n",
    "\n",
    "sq_list = list(map(sq,filter(is_even, lis)))\n",
    "\n",
    "print(sq_list)"
   ]
  },
  {
   "cell_type": "code",
   "execution_count": 27,
   "id": "dee54bfc-b0b0-4cb5-954a-0f3a23c671d6",
   "metadata": {},
   "outputs": [
    {
     "name": "stdout",
     "output_type": "stream",
     "text": [
      "72\n"
     ]
    }
   ],
   "source": [
    "# Question 18.) Write a code that calculates the product of positive numbers from a given list.\n",
    "\n",
    "from functools import reduce\n",
    "\n",
    "lis = [1, -2, 3, 0, 4, -5, 6]\n",
    "\n",
    "is_positive = lambda x : x > 0\n",
    "product = lambda x,y : x*y\n",
    "\n",
    "print(reduce(product,filter(is_positive,lis)))"
   ]
  },
  {
   "cell_type": "code",
   "execution_count": 28,
   "id": "1d6b4af7-7741-44a8-989b-bf6f7cef4f92",
   "metadata": {},
   "outputs": [
    {
     "name": "stdout",
     "output_type": "stream",
     "text": [
      "[2, 6, 10]\n"
     ]
    }
   ],
   "source": [
    "# Question 19.) Write a code that doubles the value of odd numbers from a given list.\n",
    "\n",
    "is_odd = lambda  x : x%2 != 0\n",
    "\n",
    "double = lambda x : x+x\n",
    "\n",
    "lis = [1,2,3,4,5]\n",
    "\n",
    "print(list(map(double, filter(is_odd, lis))))"
   ]
  },
  {
   "cell_type": "code",
   "execution_count": 29,
   "id": "ed22bb08-65b1-4c95-82e3-1c873adf1d71",
   "metadata": {},
   "outputs": [
    {
     "name": "stdout",
     "output_type": "stream",
     "text": [
      "225\n"
     ]
    }
   ],
   "source": [
    "# Question 20.) Write a code that calculates the sum of cubes of numbers from a given list.\n",
    "\n",
    "lis = [1,2,3,4,5]\n",
    "\n",
    "cube = lambda x : x**3\n",
    "add = lambda x,y : x+y\n",
    "\n",
    "print(reduce(add, map(cube,lis)))"
   ]
  },
  {
   "cell_type": "code",
   "execution_count": 30,
   "id": "510c70eb-9ff7-4255-bf8d-50281e33030e",
   "metadata": {},
   "outputs": [
    {
     "name": "stdout",
     "output_type": "stream",
     "text": [
      "[1, 2, 3, 5, 7]\n"
     ]
    }
   ],
   "source": [
    "# Question 21.) Write a code that filters out prime numbers from given list.\n",
    "\n",
    "def is_prime(num):\n",
    "    if num==0:\n",
    "        return False\n",
    "    \n",
    "    for i in range(2,num):\n",
    "        if num%i==0:\n",
    "            return False\n",
    "    return True\n",
    "\n",
    "lis = [1,2,3,4,5,6,7,8,9,0]\n",
    "\n",
    "print(list(filter(is_prime, lis)))"
   ]
  },
  {
   "cell_type": "code",
   "execution_count": 31,
   "id": "83d01c88-9664-43f5-8db8-f293831dcf7f",
   "metadata": {},
   "outputs": [
    {
     "data": {
      "text/plain": [
       "5"
      ]
     },
     "execution_count": 31,
     "metadata": {},
     "output_type": "execute_result"
    }
   ],
   "source": [
    "# Question 22.)  Write a code that uses a lambda function to calculate the sum of two numbers.\n",
    "\n",
    "add = lambda x,y : x+y\n",
    "\n",
    "add(2,3)"
   ]
  },
  {
   "cell_type": "code",
   "execution_count": 32,
   "id": "81fe5e6b-dcaf-46c0-9247-9a3b258ccb6e",
   "metadata": {},
   "outputs": [
    {
     "data": {
      "text/plain": [
       "25"
      ]
     },
     "execution_count": 32,
     "metadata": {},
     "output_type": "execute_result"
    }
   ],
   "source": [
    "# Question 23.) Write a code that uses a lambda function to calculate the square of a given number.\n",
    "\n",
    "sq = lambda x : x**2\n",
    "\n",
    "sq(5)"
   ]
  },
  {
   "cell_type": "code",
   "execution_count": 33,
   "id": "e54db641-6321-4363-b990-19a21c8dd033",
   "metadata": {},
   "outputs": [
    {
     "data": {
      "text/plain": [
       "'Odd'"
      ]
     },
     "execution_count": 33,
     "metadata": {},
     "output_type": "execute_result"
    }
   ],
   "source": [
    "# Question 24.) Write a code that uses a lambda function to check whether a given number is even or odd.\n",
    "\n",
    "check = lambda x : \"Even\" if x%2==0 else \"Odd\"\n",
    "\n",
    "check(5)"
   ]
  },
  {
   "cell_type": "code",
   "execution_count": 34,
   "id": "5649f1c9-c6eb-42d8-afef-f879955f8309",
   "metadata": {},
   "outputs": [
    {
     "data": {
      "text/plain": [
       "'Data Science'"
      ]
     },
     "execution_count": 34,
     "metadata": {},
     "output_type": "execute_result"
    }
   ],
   "source": [
    "# Question 25.) Write a code that uses a lambda function to concatenate two strings.\n",
    "\n",
    "add = lambda x,y : x+\" \"+y\n",
    "\n",
    "add(\"Data\",\"Science\")"
   ]
  },
  {
   "cell_type": "code",
   "execution_count": 35,
   "id": "44ef0506-5477-4adb-98e3-86f915b383f6",
   "metadata": {},
   "outputs": [
    {
     "data": {
      "text/plain": [
       "7"
      ]
     },
     "execution_count": 35,
     "metadata": {},
     "output_type": "execute_result"
    }
   ],
   "source": [
    "# Question 26.) Write a code that uses a lambda function to find the maximum of three given numbers.\n",
    "\n",
    "maxi = lambda x,y,z : x if (x>y and x>z) else y if y>z else z\n",
    "\n",
    "maxi(5,6,7)"
   ]
  },
  {
   "cell_type": "code",
   "execution_count": 38,
   "id": "28def2fa-a478-41a1-87ba-ba3914199a1e",
   "metadata": {},
   "outputs": [],
   "source": [
    "# Question 27.) What is encapsulation in OOP?\n",
    "\n",
    "# Answer >> Encapsulation is a Python technique for combining data and functions into single object. \n",
    "#           In simple words it helps you to restrict the sensitive attributes and properties of a class and allows excess only to the \n",
    "#           required part to the instance of the class. And this is achieved by different types of excess modifiers."
   ]
  },
  {
   "cell_type": "code",
   "execution_count": 39,
   "id": "316b0f97-c2f9-4b67-bf5f-fa56f8d4babc",
   "metadata": {},
   "outputs": [],
   "source": [
    "# Question 28.) Explain the use of excess modifiers in Python classes.\n",
    "\n",
    "# Answer >> Excess modifiers helps control or restrict the use of class members like attributes or methods within or out of the class."
   ]
  },
  {
   "cell_type": "code",
   "execution_count": 40,
   "id": "18d51e04-912b-44d8-92fe-794c7e7256c0",
   "metadata": {},
   "outputs": [],
   "source": [
    "# Question 29.) What is Inheritance in OOP?\n",
    "\n",
    "# Answer >> Inheritance in OOP is a concept in which a subclass inherits all the properties of the super class. This is done to make the \n",
    "#           code reuable instead of writing it from scratch every time needed."
   ]
  },
  {
   "cell_type": "code",
   "execution_count": 41,
   "id": "1ba7f349-026d-4278-a903-07ddb3c42840",
   "metadata": {},
   "outputs": [],
   "source": [
    "# Question 30.) What is polymorphism in OOP?\n",
    "\n",
    "# Answer >> In OOP polymorphism refers to an object's capacity to assume several forms. Simply said, polymorphism enables us to carry out a \n",
    "#           single activity in a variety of ways. Inheritance is the prime application of it. And it can be achieved in two ways called \n",
    "#           Mehtod overrding and Method overloading."
   ]
  },
  {
   "cell_type": "code",
   "execution_count": 42,
   "id": "14e58cd3-ca6f-4a4d-aadb-7f0891676fe5",
   "metadata": {},
   "outputs": [],
   "source": [
    "# Question 31.) Explain method overriding in Python.\n",
    "\n",
    "# Answer >> Inheritance is the prime application of polymorphism and method overriding is the way it can be achieved using inheritance.\n",
    "#           Method overriding occurs when a subclass provide a different implementation of the method as same name in the superclass."
   ]
  },
  {
   "cell_type": "code",
   "execution_count": 43,
   "id": "f26172f6-cfff-4963-a0e6-874402d327a4",
   "metadata": {},
   "outputs": [
    {
     "name": "stdout",
     "output_type": "stream",
     "text": [
      "Generic animal sound\n",
      "Woof!\n"
     ]
    }
   ],
   "source": [
    "# Question 32.) Define a parent class Animal with a method make_sound that prints \"Generic animal sound\".Create a child class dog inheriting\n",
    "#                from Animal with a method make_sound that prints \"Woof!\".\n",
    "\n",
    "class Animal:\n",
    "    def make_sound(self):\n",
    "        print(\"Generic animal sound\")\n",
    "        \n",
    "class Dog(Animal):\n",
    "    def make_sound(self):\n",
    "        print(\"Woof!\")\n",
    "        \n",
    "a = Animal()\n",
    "d = Dog()\n",
    "\n",
    "a.make_sound()\n",
    "d.make_sound()"
   ]
  },
  {
   "cell_type": "code",
   "execution_count": 44,
   "id": "3d39d1d3-7b41-488c-b040-d434a8740fe5",
   "metadata": {},
   "outputs": [
    {
     "name": "stdout",
     "output_type": "stream",
     "text": [
      "Generic animal sound\n",
      "Animal moves\n",
      "Woof!\n",
      "Dog runs\n"
     ]
    }
   ],
   "source": [
    "# Question 33.) Define a method move in the Animal class that prints \"Animal moves\". Override the move method in the Dog class to print \n",
    "#               \"Dog runs\".\n",
    "\n",
    "class Animal:\n",
    "    def make_sound(self):\n",
    "        print(\"Generic animal sound\")\n",
    "        \n",
    "    def move(self):\n",
    "        print(\"Animal moves\")\n",
    "        \n",
    "class Dog(Animal):\n",
    "    def make_sound(self):\n",
    "        print(\"Woof!\")\n",
    "        \n",
    "    def move(self):\n",
    "        print(\"Dog runs\")\n",
    "        \n",
    "a = Animal()\n",
    "d = Dog()\n",
    "\n",
    "a.make_sound()\n",
    "a.move()\n",
    "d.make_sound()\n",
    "d.move()"
   ]
  },
  {
   "cell_type": "code",
   "execution_count": 45,
   "id": "52ee80bf-ddf1-4d4d-a27e-b25c7b876b3d",
   "metadata": {},
   "outputs": [
    {
     "name": "stdout",
     "output_type": "stream",
     "text": [
      "Woof!\n",
      "Dog runs\n",
      "Giving birth to live young\n"
     ]
    }
   ],
   "source": [
    "# Question 34.) Create a class Mammal with a method reproduce that prints \"Giving birth to live young\".Create a class DogMammal inheriting\n",
    "#               from both Dog and Mammal.\n",
    "\n",
    "class Mammal:\n",
    "    def reproduce(self):\n",
    "        print(\"Giving birth to live young\")\n",
    "        \n",
    "class DogMammal(Dog,Mammal):\n",
    "    def make_sound(self):\n",
    "        print(\"Woof!\")\n",
    "        \n",
    "    def move(self):\n",
    "        print(\"Dog runs\")\n",
    "        \n",
    "    def reproduce(self):\n",
    "        print(\"Giving birth to live young\")\n",
    "        \n",
    "        \n",
    "d = DogMammal()\n",
    "d.make_sound()\n",
    "d.move()\n",
    "d.reproduce()"
   ]
  },
  {
   "cell_type": "code",
   "execution_count": 46,
   "id": "a3af9b24-a458-4b98-b313-38363d950cb2",
   "metadata": {},
   "outputs": [
    {
     "name": "stdout",
     "output_type": "stream",
     "text": [
      "Bark!\n"
     ]
    }
   ],
   "source": [
    "# Question 35.) Create a class GermanShepherd inheriting from Dog and override the make_sound method to print \"Bark!\".\n",
    "\n",
    "class GermanShepherd(Dog):\n",
    "    def make_sound(self):\n",
    "        print(\"Bark!\")\n",
    "        \n",
    "gd = GermanShepherd()\n",
    "gd.make_sound()"
   ]
  },
  {
   "cell_type": "code",
   "execution_count": 47,
   "id": "4b915316-8b95-4172-8574-3890420fc1bf",
   "metadata": {},
   "outputs": [
    {
     "name": "stdout",
     "output_type": "stream",
     "text": [
      "Generic animal sound\n",
      "Animal moves\n",
      "Woof!\n",
      "Dog runs\n"
     ]
    }
   ],
   "source": [
    "# Question 36.) Define constructors in both the Animal and Dog classes with different initialization parameters.\n",
    "\n",
    "class Animal:\n",
    "    def __init__(self,category):\n",
    "        self.category = category\n",
    "    \n",
    "    def make_sound(self):\n",
    "        print(\"Generic animal sound\")\n",
    "        \n",
    "    def move(self):\n",
    "        print(\"Animal moves\")\n",
    "        \n",
    "class Dog(Animal):\n",
    "    def __init__(self,breed):\n",
    "        self.breed = breed\n",
    "    \n",
    "    def make_sound(self):\n",
    "        print(\"Woof!\")\n",
    "        \n",
    "    def move(self):\n",
    "        print(\"Dog runs\")\n",
    "        \n",
    "a = Animal(\"Mammal\")\n",
    "d = Dog(\"German Shepherd\")\n",
    "\n",
    "a.make_sound()\n",
    "a.move()\n",
    "d.make_sound()\n",
    "d.move()"
   ]
  },
  {
   "cell_type": "code",
   "execution_count": 49,
   "id": "6d16832d-28a9-4793-8a9d-d348e0b8f41c",
   "metadata": {},
   "outputs": [],
   "source": [
    "# Question 37.) What is abstraction in Python? How is it implemented?\n",
    "\n",
    "# Answer >> Abstraction is the concept of hiding the complex implementation details and showing only the essential features of an object. \n",
    "#           This is implemented by using abstract classes and interfaces."
   ]
  },
  {
   "cell_type": "code",
   "execution_count": 50,
   "id": "6be15a95-e44b-4568-b1d5-2878abedb290",
   "metadata": {},
   "outputs": [],
   "source": [
    "# Question 38.) Explain the importance of abstraction in object-oriented programming.\n",
    "\n",
    "# Answer >> Abstraction is a fundamental concept in object-oriented programming (OOP) that plays a crucial role in improving code \n",
    "#           maintainability and acts as blueprint for the subclasses that helps in improving the code complexity."
   ]
  },
  {
   "cell_type": "code",
   "execution_count": 57,
   "id": "56d20063-6ffe-4f67-8f4d-d2f1d158e6aa",
   "metadata": {},
   "outputs": [],
   "source": [
    "# Question 39.) How are abstract method different from regular methods in Python?\n",
    "\n",
    "# Answer >> Abstract methods are initialize using keyword '@abstractmethod' and does not compulsarily require implementation. But the\n",
    "#           subclasses that inherits the abstract class are required to implement those abstract methods."
   ]
  },
  {
   "cell_type": "code",
   "execution_count": 62,
   "id": "37a73907-add2-411d-8350-e223ec172106",
   "metadata": {},
   "outputs": [],
   "source": [
    "# Question 40.) How can you achieve abstraction using interfaces in Python?\n",
    "\n",
    "# Answer >> In Python abstraction is achieved using abstract base classes (ABCs) by importing them : import abc from ABC, abstractmethod"
   ]
  },
  {
   "cell_type": "code",
   "execution_count": 63,
   "id": "2256703a-1568-4999-9432-d7ca571527ae",
   "metadata": {},
   "outputs": [],
   "source": [
    "# Question 41.) Can you provide an example of how abstraction can be utilized to create a common interface for a group of related classes\n",
    "#               in Python?\n",
    "\n",
    "from abc import ABC, abstractmethod\n",
    "\n",
    "class Shape:\n",
    "    @abstractmethod\n",
    "    def area(self):\n",
    "        pass\n",
    "    \n",
    "    @abstractmethod\n",
    "    def perimeter(self):\n",
    "        pass\n",
    "    \n",
    "class Rectangle(Shape):\n",
    "    def __init__ (self,length,width):\n",
    "        self.length = length\n",
    "        self.width = width\n",
    "        \n",
    "    def area(self):\n",
    "        return self.length * self.width\n",
    "    \n",
    "    def perimeter(self):\n",
    "        return 2 * (self.length + self.width)\n",
    "    \n",
    "class Circle(Shape):\n",
    "    def __init__ (self,radius):\n",
    "        self.radius = radius\n",
    "        \n",
    "    def area(self):\n",
    "        return 3.14 * self.radius * self.radius\n",
    "    \n",
    "    def perimeter(self):\n",
    "        return 2 * 3.14 * self.radius"
   ]
  },
  {
   "cell_type": "code",
   "execution_count": 64,
   "id": "ddd0efcb-7cfa-4bbc-9e30-dadf1cad2ba7",
   "metadata": {},
   "outputs": [],
   "source": [
    "# Question 42.) How does Python achieve polymorphism through method overriding?\n",
    "\n",
    "# Answer >> In Python polymorphism through method overriding is achieved by inheritance. The subclass can have a different implementation\n",
    "#           of the methods inherited from superclasses."
   ]
  },
  {
   "cell_type": "code",
   "execution_count": 66,
   "id": "446c1f94-9366-4f8f-bd98-d46a59d9c519",
   "metadata": {},
   "outputs": [
    {
     "name": "stdout",
     "output_type": "stream",
     "text": [
      "Generic animal sound\n",
      "Woof!\n"
     ]
    }
   ],
   "source": [
    "# Question 43.) Define a base class with a method and a subclass that overrides the method.\n",
    "\n",
    "class Animal:\n",
    "    def make_sound(self):\n",
    "        print(\"Generic animal sound\")\n",
    "        \n",
    "class Dog(Animal):\n",
    "    def make_sound(self):\n",
    "        print(\"Woof!\")\n",
    "        \n",
    "a = Animal()\n",
    "d = Dog()\n",
    "\n",
    "a.make_sound()\n",
    "d.make_sound()"
   ]
  },
  {
   "cell_type": "code",
   "execution_count": 1,
   "id": "43620842-08b3-4a18-b130-9bfe1666e940",
   "metadata": {},
   "outputs": [
    {
     "name": "stdout",
     "output_type": "stream",
     "text": [
      "Generic animal sound\n",
      "Animal moves\n",
      "Moow!\n",
      "Cow walks\n",
      "Woof!\n",
      "Dog runs\n",
      "Meow!\n",
      "Cat runs\n"
     ]
    }
   ],
   "source": [
    "# Question 44.) Define a base class and multiple subclasses with overridden methods.\n",
    "\n",
    "class Animal:\n",
    "    def make_sound(self):\n",
    "        print(\"Generic animal sound\")\n",
    "        \n",
    "    def move(self):\n",
    "        print(\"Animal moves\")\n",
    "\n",
    "        \n",
    "class Cow(Animal):\n",
    "    def make_sound(self):\n",
    "        print(\"Moow!\")\n",
    "        \n",
    "    def move(self):\n",
    "        print(\"Cow walks\")\n",
    "    \n",
    "    \n",
    "class Dog(Animal):\n",
    "    def make_sound(self):\n",
    "        print(\"Woof!\")\n",
    "        \n",
    "    def move(self):\n",
    "        print(\"Dog runs\")\n",
    "      \n",
    "    \n",
    "class Cat(Animal):\n",
    "    def make_sound(self):\n",
    "        print(\"Meow!\")\n",
    "        \n",
    "    def move(self):\n",
    "        print(\"Cat runs\")\n",
    "        \n",
    "a = Animal()\n",
    "m = Cow()\n",
    "d = Dog()\n",
    "c = Cat()\n",
    "\n",
    "a.make_sound()\n",
    "a.move()\n",
    "m.make_sound()\n",
    "m.move()\n",
    "d.make_sound()\n",
    "d.move()\n",
    "c.make_sound()\n",
    "c.move()"
   ]
  },
  {
   "cell_type": "code",
   "execution_count": 2,
   "id": "af713b27-efe7-4343-afa2-566931f5ff4a",
   "metadata": {},
   "outputs": [],
   "source": [
    "# Question 45.) How does polymorphism improve code readability and reusability?\n",
    "\n",
    "# Answer >> When it comes to code readability and reusability polymorphism plays a crucial role as a subclass inheriting a superclass need\n",
    "#           not to wirte those same mehtods as in superclass. It can either directly use them or override them."
   ]
  },
  {
   "cell_type": "code",
   "execution_count": 3,
   "id": "06709c23-66f1-466f-8804-83d5dd61d8ad",
   "metadata": {},
   "outputs": [],
   "source": [
    "# Question 46.) Describe how Python supports polymorphism with duck typing?\n",
    "\n",
    "# Answer >> Python supports polymorphism through duck typing by allowing objects to be used interchangeably based on their behavior rather \n",
    "#           than their explicit class. This approach enhances code flexibility, readability, and reusability."
   ]
  },
  {
   "cell_type": "code",
   "execution_count": 4,
   "id": "b9e3b4e5-6f70-4d61-981f-407be7710ffd",
   "metadata": {},
   "outputs": [],
   "source": [
    "# Question 47.) How do you achieve encapsulation in Python?\n",
    "\n",
    "#Answer >> Encapsulation in Python can be achieved by different types of exxcess modifiers like public, private and protected. These are not\n",
    "#           keywords in words Python. So,to implement them we use double underscore(__) for protected and single underscore(_) for protected\n",
    "#           before the member's name. Example :- class Student:\n",
    "#                                                   def __init__(self, name):\n",
    "#                                                       self.__name = name"
   ]
  },
  {
   "cell_type": "code",
   "execution_count": 2,
   "id": "7961134a-c92c-4e8e-8fa7-647f33e53434",
   "metadata": {},
   "outputs": [
    {
     "name": "stdout",
     "output_type": "stream",
     "text": [
      "Rishu\n",
      "Rishu\n",
      "Ajay\n",
      "Ajay\n"
     ]
    }
   ],
   "source": [
    "# Question 48.) Can encapsulation be bypassed in Python? If so, how?\n",
    "\n",
    "# Answer >> Yes, encapsulation can be bypassed in Python but is highly discouraged. The different ways to bypass it are :-\n",
    "# 1.) Private methods or Private variables:-\n",
    "class Student1:\n",
    "    def __init__(self, name):\n",
    "        self.__name = name\n",
    "                    \n",
    "    def __show(self):\n",
    "        print(self.__name)\n",
    "                    \n",
    "s1 = Student1(\"Rishu\")\n",
    "print(s1._Student1__name)\n",
    "s1._Student1__show()\n",
    "\n",
    "\n",
    "# 2.) Protected methods and variables:-\n",
    "class Student2:\n",
    "    def __init__(self,name):\n",
    "        self._name = name\n",
    "        \n",
    "    def _show(self):\n",
    "        print(self._name)\n",
    "        \n",
    "s2 = Student2(\"Ajay\")\n",
    "print(s2._name)\n",
    "s2._show()"
   ]
  },
  {
   "cell_type": "code",
   "execution_count": 27,
   "id": "470f22da-116e-497a-82f1-afaf972e01c0",
   "metadata": {},
   "outputs": [
    {
     "data": {
      "text/plain": [
       "1000"
      ]
     },
     "execution_count": 27,
     "metadata": {},
     "output_type": "execute_result"
    }
   ],
   "source": [
    "# Question 49.) Implement a class BankAccount with a private balance attribute. Include methods to deposite, withdraw and check the balance.\n",
    "\n",
    "class BankAccount:\n",
    "    def __init__(self,balance):\n",
    "        self.__balance = balance\n",
    "        \n",
    "    def deposite(self,amount):\n",
    "        self.__balance += amount\n",
    "        \n",
    "    def withdraw(self,amount):\n",
    "        if (amount <= self.__balance):\n",
    "            self.__balance -= amount\n",
    "        else:\n",
    "            return False\n",
    "        \n",
    "    def check_balance(self):\n",
    "        return self.__balance\n",
    "    \n",
    "b = BankAccount(3000)\n",
    "b.deposite(1000)\n",
    "b.withdraw(3000)\n",
    "b.check_balance()"
   ]
  },
  {
   "cell_type": "code",
   "execution_count": 28,
   "id": "0737cdf4-f19d-46b9-8f65-7ad653e62a8d",
   "metadata": {},
   "outputs": [
    {
     "data": {
      "text/plain": [
       "'rb@gmail.com'"
      ]
     },
     "execution_count": 28,
     "metadata": {},
     "output_type": "execute_result"
    }
   ],
   "source": [
    "# Question 50.) Develop a Person class with private attributes name and email, and methods to set and get email.\n",
    "\n",
    "class Person:\n",
    "    def __init__(self,name,email):\n",
    "        self.__name = name\n",
    "        self.__email = email\n",
    "        \n",
    "    def set_email(self,email):\n",
    "        self.__email = email\n",
    "        \n",
    "    def get_email(self):\n",
    "        return self.__email\n",
    "    \n",
    "p = Person(\"Rishu\",\"r@gmail.com\")\n",
    "p.set_email(\"rb@gmail.com\")\n",
    "p.get_email()"
   ]
  },
  {
   "cell_type": "code",
   "execution_count": 5,
   "id": "e8e35c1e-668a-418e-b29d-a42e59544348",
   "metadata": {},
   "outputs": [],
   "source": [
    "# Question 51.) Why is encapsulation considered a pillar of object-oriented programming(OOP)?\n",
    "\n",
    "# Answer >> Encapsulation is considered one the four pillars of OOP, as it provdies security, easy maintainance and reusability to the code."
   ]
  },
  {
   "cell_type": "code",
   "execution_count": 7,
   "id": "afe7d182-915c-4bde-925e-66f1af9cd7f4",
   "metadata": {},
   "outputs": [
    {
     "name": "stdout",
     "output_type": "stream",
     "text": [
      "The lines being printed before the computation.\n",
      "Hello\n",
      "The lines being printed after the computation.\n"
     ]
    }
   ],
   "source": [
    "# Question 52.) Create a decorator in Python that adds functionality to a simple function by printing a message before and after the function execution.\n",
    "\n",
    "def my_decorator(func):\n",
    "    def wrapper():\n",
    "        print(\"The lines being printed before the computation.\")\n",
    "        func()\n",
    "        print(\"The lines being printed after the computation.\")\n",
    "    return wrapper\n",
    "\n",
    "@my_decorator\n",
    "def say_hello():\n",
    "    print(\"Hello\")\n",
    "    \n",
    "say_hello()"
   ]
  },
  {
   "cell_type": "code",
   "execution_count": 11,
   "id": "cb77d389-0825-4d1d-9439-3a23f9f71794",
   "metadata": {},
   "outputs": [
    {
     "name": "stdout",
     "output_type": "stream",
     "text": [
      "Before the function execution\n",
      "Hello Rishu\n",
      "After the function execution\n"
     ]
    }
   ],
   "source": [
    "# Question 53.) Modify the decorator to accept the arguments and print the function name along with the message.\n",
    "\n",
    "def my_decorator(func):\n",
    "    def wrapper(*args, **kwargs):\n",
    "        print(\"Before the function execution\")\n",
    "        result = func(*args, **kwargs)\n",
    "        print(\"After the function execution\")\n",
    "        return result\n",
    "    return wrapper\n",
    "\n",
    "@my_decorator\n",
    "def say_hello(name):\n",
    "    print(f\"Hello {name}\")\n",
    "    \n",
    "say_hello(\"Rishu\")"
   ]
  },
  {
   "cell_type": "code",
   "execution_count": 16,
   "id": "15e66d48-63da-4821-9fdf-a6866f546ac7",
   "metadata": {},
   "outputs": [
    {
     "name": "stdout",
     "output_type": "stream",
     "text": [
      "Decorator one : Before execution\n",
      "Decorator two : Before execution\n",
      "Hello\n",
      "Decorator two : After execution\n",
      "Decorator one : After execution\n"
     ]
    }
   ],
   "source": [
    "# Question 54.) Create two decorators, and apply them to a simple function. Ensure that they execute in the order they are applied.\n",
    "\n",
    "def my_decorator_one(func):\n",
    "    def wrapper():\n",
    "        print(\"Decorator one : Before execution\")\n",
    "        result = func()\n",
    "        print(\"Decorator one : After execution\")\n",
    "        return result\n",
    "    return wrapper\n",
    "\n",
    "def my_decorator_two(func):\n",
    "    def wrapper():\n",
    "        print(\"Decorator two : Before execution\")\n",
    "        result = func()\n",
    "        print(\"Decorator two : After execution\")\n",
    "        return result\n",
    "    return wrapper\n",
    "\n",
    "@my_decorator_one\n",
    "@my_decorator_two\n",
    "def say_hello():\n",
    "    print(\"Hello\")\n",
    "          \n",
    "say_hello()"
   ]
  },
  {
   "cell_type": "code",
   "execution_count": 17,
   "id": "7be182b7-1306-45eb-a851-aa36fc324228",
   "metadata": {},
   "outputs": [
    {
     "name": "stdout",
     "output_type": "stream",
     "text": [
      "Decorator one : Before execution\n",
      "Decorator two : Before execution\n",
      "Hello Rishu\n",
      "Decorator two : After execution\n",
      "Decorator one : After execution\n"
     ]
    }
   ],
   "source": [
    "# Question 55.) Modify the decorator to accept and pass function arguments to the wrapped function.\n",
    "\n",
    "def my_decorator_one(func):\n",
    "    def wrapper(*args, **kwargs):\n",
    "        print(\"Decorator one : Before execution\")\n",
    "        result = func(*args, **kwargs)\n",
    "        print(\"Decorator one : After execution\")\n",
    "        return result\n",
    "    return wrapper\n",
    "\n",
    "def my_decorator_two(func):\n",
    "    def wrapper(*args, **kwargs):\n",
    "        print(\"Decorator two : Before execution\")\n",
    "        result = func(*args, **kwargs)\n",
    "        print(\"Decorator two : After execution\")\n",
    "        return result\n",
    "    return wrapper\n",
    "\n",
    "@my_decorator_one\n",
    "@my_decorator_two\n",
    "def say_hello(name):\n",
    "    print(f\"Hello {name}\")\n",
    "          \n",
    "say_hello(\"Rishu\")"
   ]
  },
  {
   "cell_type": "code",
   "execution_count": 18,
   "id": "2315b3fa-f2e8-4e91-b2b2-388417c33dcd",
   "metadata": {},
   "outputs": [
    {
     "name": "stdout",
     "output_type": "stream",
     "text": [
      "Before the function execution\n",
      "Hello, Rishu!\n",
      "After the function execution\n"
     ]
    }
   ],
   "source": [
    "# Question 56.) Create a decorator that preserves the metadata of the original function.\n",
    "\n",
    "import functools\n",
    "\n",
    "def my_decorator(func):\n",
    "    @functools.wraps(func)\n",
    "    def wrapper(*args, **kwargs):\n",
    "        print(\"Before the function execution\")\n",
    "        result = func(*args, **kwargs)\n",
    "        print(\"After the function execution\")\n",
    "        return result\n",
    "    return wrapper\n",
    "\n",
    "@my_decorator\n",
    "def say_hello(name):\n",
    "    \"\"\"Greet someone by their name.\"\"\"\n",
    "    print(f\"Hello, {name}!\")\n",
    "    \n",
    "say_hello(\"Rishu\")"
   ]
  },
  {
   "cell_type": "code",
   "execution_count": 29,
   "id": "3a2ba333-f77b-401f-8fe5-ecc0d23bf39d",
   "metadata": {},
   "outputs": [
    {
     "data": {
      "text/plain": [
       "5"
      ]
     },
     "execution_count": 29,
     "metadata": {},
     "output_type": "execute_result"
    }
   ],
   "source": [
    "# Question 57.) Create a Python class 'Calculator' with a static method add that takes in two numbers and return their sum.\n",
    "\n",
    "class Calculator:\n",
    "    @staticmethod\n",
    "    def add(a,b):\n",
    "        return a+b\n",
    "    \n",
    "Calculator.add(2,3)"
   ]
  },
  {
   "cell_type": "code",
   "execution_count": 30,
   "id": "9ba73282-9cb8-4d9f-84d4-c7c75f143e36",
   "metadata": {},
   "outputs": [
    {
     "data": {
      "text/plain": [
       "2"
      ]
     },
     "execution_count": 30,
     "metadata": {},
     "output_type": "execute_result"
    }
   ],
   "source": [
    "# Question 58.) Create a Python class 'Employee' with the class 'method get_employee_count' that returns the total number of \n",
    "#               of employee created.\n",
    "\n",
    "class Employee:\n",
    "    count = 0\n",
    "    def __init__(self):\n",
    "        Employee.count += 1\n",
    "    \n",
    "    @classmethod\n",
    "    def get_employee_count(self):\n",
    "        return Employee.count\n",
    "    \n",
    "e1 = Employee()\n",
    "e2 = Employee()\n",
    "\n",
    "Employee.get_employee_count()"
   ]
  },
  {
   "cell_type": "code",
   "execution_count": 33,
   "id": "70b5a9c9-a9fa-463a-b7eb-fc3c6d176f93",
   "metadata": {},
   "outputs": [
    {
     "data": {
      "text/plain": [
       "'uhsiR'"
      ]
     },
     "execution_count": 33,
     "metadata": {},
     "output_type": "execute_result"
    }
   ],
   "source": [
    "# Question 59.) Create a Python class 'StringFormatter' with a static method 'reverse_string' that takes a string as input and \n",
    "#               returns its reverse.\n",
    "\n",
    "class StringFormatter:\n",
    "    def __init__(self):\n",
    "        pass\n",
    "    \n",
    "    @staticmethod\n",
    "    def reverse_string(String):\n",
    "        return String[::-1]\n",
    "    \n",
    "s = StringFormatter()\n",
    "StringFormatter.reverse_string(\"Rishu\")"
   ]
  },
  {
   "cell_type": "code",
   "execution_count": 34,
   "id": "db27339b-2198-4ca8-9a35-468aea481e7e",
   "metadata": {},
   "outputs": [
    {
     "data": {
      "text/plain": [
       "78.5"
      ]
     },
     "execution_count": 34,
     "metadata": {},
     "output_type": "execute_result"
    }
   ],
   "source": [
    "# Question 60.) Create a Python class 'Circle' with a class method 'calculate_area' that calculates the area of a circle given its\n",
    "#               radius.\n",
    "\n",
    "\n",
    "class Circle:\n",
    "    @classmethod\n",
    "    def calculate_area(self,radius):\n",
    "        return 3.14 * radius * radius\n",
    "    \n",
    "Circle.calculate_area(5)"
   ]
  },
  {
   "cell_type": "code",
   "execution_count": 36,
   "id": "93699d82-1903-4b78-88c7-dd4e22ed1496",
   "metadata": {},
   "outputs": [
    {
     "data": {
      "text/plain": [
       "116.0"
      ]
     },
     "execution_count": 36,
     "metadata": {},
     "output_type": "execute_result"
    }
   ],
   "source": [
    "# Question 61.) Create a Python class 'TemperatureConverter' with a static method 'celsius_to_fahrenheit' that converts Celsius to\n",
    "#               Fahrenheit.\n",
    "\n",
    "class TemperatureConverter:\n",
    "    @staticmethod\n",
    "    def celsius_to_fahrenheit(celsius):\n",
    "        return ((9/5) * celsius) + 35\n",
    "    \n",
    "TemperatureConverter.celsius_to_fahrenheit(45)"
   ]
  },
  {
   "cell_type": "code",
   "execution_count": 11,
   "id": "0ff23f25-141c-4db0-8149-677a22314ff9",
   "metadata": {},
   "outputs": [
    {
     "name": "stdout",
     "output_type": "stream",
     "text": [
      "My class has value 10\n"
     ]
    }
   ],
   "source": [
    "# Question 62.) What is the purpose of the __str__() method in Python classes? Provide with an example.\n",
    "\n",
    "# Answer >> The __str__() method in Python is a special method used to define the user-friendly string representation of an object. \n",
    "\n",
    "class MyClass:\n",
    "    def __init__(self,value):\n",
    "        self.value = value\n",
    "    def __str__(self):\n",
    "        return f\"My class has value {self.value}\"\n",
    "\n",
    "c = MyClass(10)\n",
    "print(str(c))"
   ]
  },
  {
   "cell_type": "code",
   "execution_count": 15,
   "id": "9a7e0e3c-b114-488d-87bd-60cc5907c3b2",
   "metadata": {},
   "outputs": [
    {
     "name": "stdout",
     "output_type": "stream",
     "text": [
      "5\n"
     ]
    }
   ],
   "source": [
    "# Question 63.) How does the __len__() method work in Python? Provide an example.\n",
    "\n",
    "# Answer >> The __len__ method in Python is used to define the behaviour of len() function for custom objects.\n",
    "class MyClass:\n",
    "    def __init__(self, items):\n",
    "        self.items = items\n",
    "\n",
    "    def __len__(self):\n",
    "        return len(self.items)\n",
    "\n",
    "c = MyClass([1, 2, 3, 4, 5])\n",
    "\n",
    "print(len(c))"
   ]
  },
  {
   "cell_type": "code",
   "execution_count": 21,
   "id": "7868e174-814a-4321-8807-5865a2f7849c",
   "metadata": {},
   "outputs": [
    {
     "name": "stdout",
     "output_type": "stream",
     "text": [
      "Vector(4,6)\n"
     ]
    }
   ],
   "source": [
    "# Question 64.) Explain the usage of __add__() method in Python classes. Provide an example.\n",
    "\n",
    "# Answer >> The __add__ method in Python is used to define the behaviour of + operator for custom objects.\n",
    "\n",
    "class Vector:\n",
    "    def __init__(self,x,y):\n",
    "        self.x = x\n",
    "        self.y = y\n",
    "        \n",
    "    def __add__(one,other):\n",
    "        return Vector(one.x + other.x, one.y + other.y)\n",
    "    \n",
    "    def __repr__(self):\n",
    "        return f\"Vector({self.x},{self.y})\"\n",
    "    \n",
    "v1 = Vector(1,2)\n",
    "v2 = Vector(3,4)\n",
    "\n",
    "v3 = v1 + v2\n",
    "\n",
    "print(v3)"
   ]
  },
  {
   "cell_type": "code",
   "execution_count": 22,
   "id": "94397a09-5d21-4ed8-b329-c39072f9396e",
   "metadata": {},
   "outputs": [
    {
     "data": {
      "text/plain": [
       "4"
      ]
     },
     "execution_count": 22,
     "metadata": {},
     "output_type": "execute_result"
    }
   ],
   "source": [
    "# Question 65.) What is the purpose of __getitem__() method in Python? Provide an example.\n",
    "\n",
    "# Answer >> The __getitem__ method in Python is a method used to define the behavior of accessing elements using the indexing of custom objects.\n",
    "\n",
    "class CustomList:\n",
    "    def __init__(self,item):\n",
    "        self.item = item\n",
    "        \n",
    "    def __getitem__(self,index):\n",
    "        return self.item[index]\n",
    "    \n",
    "i = CustomList([1,2,3,4,5])\n",
    "\n",
    "i[3]"
   ]
  },
  {
   "cell_type": "code",
   "execution_count": 3,
   "id": "8072629c-0337-432e-b6d8-edd470fcd461",
   "metadata": {},
   "outputs": [
    {
     "data": {
      "text/plain": [
       "4"
      ]
     },
     "execution_count": 3,
     "metadata": {},
     "output_type": "execute_result"
    }
   ],
   "source": [
    "# Question 66.) Explain the usage of __iter__() and __next__() methods in Python. Provide an example using iterators.\n",
    "\n",
    "# Answer >> These function are used for iterating over an iterable objects or range.\n",
    "#           1.) __iter__() :- This function creates an iterable object which is used for iterating.\n",
    "#           2.) __next__() :- This function gives the next value of iterable object until it reaches the end and raise exception StopIteration.\n",
    "\n",
    "class CustomRange:\n",
    "    def __init__(self,start,end):\n",
    "        self.start = start\n",
    "        self.end = end\n",
    "        \n",
    "    def __iter__(self):\n",
    "        self.current = self.start\n",
    "        return self\n",
    "    \n",
    "    def __next__(self):\n",
    "        if self.current >= self.end:\n",
    "            raise StopIteration\n",
    "        current = self.current\n",
    "        self.current += 1\n",
    "        return current\n",
    "    \n",
    "c = CustomRange(1,5)\n",
    "obj = iter(c)\n",
    "\n",
    "next(obj)\n",
    "next(obj)\n",
    "next(obj)\n",
    "next(obj)"
   ]
  },
  {
   "cell_type": "code",
   "execution_count": 20,
   "id": "7068d79e-070a-4e03-ae89-ff00826be0ae",
   "metadata": {},
   "outputs": [
    {
     "name": "stdout",
     "output_type": "stream",
     "text": [
      "5\n"
     ]
    }
   ],
   "source": [
    "# Question 67.) What is the purpose of a getter method in Python? Provide an example demostrating the use of a getter method using property\n",
    "#               decorator.\n",
    "\n",
    "# Answer >> Getter method helps to excess attributes of a class which is done by using property decorator. Property decorator allows turns\n",
    "#           methods to getters, setters and deleters.\n",
    "\n",
    "class Circle:\n",
    "    def __init__(self,radius):\n",
    "        self.__radius = radius\n",
    "        \n",
    "    @property\n",
    "    def get_radius(self):\n",
    "        return self.__radius\n",
    "    \n",
    "    @get_radius.setter\n",
    "    def set_radius(self,new_radius):\n",
    "        self.__radius = new_radius\n",
    "        \n",
    "    @get_radius.deleter\n",
    "    def  delete_radius(self):\n",
    "        del self.__radius\n",
    "        \n",
    "c = Circle(5)\n",
    "print(c.get_radius)\n",
    "c.set_radius = 10\n",
    "del c.delete_radius"
   ]
  },
  {
   "cell_type": "code",
   "execution_count": 21,
   "id": "427cdf82-0fd0-4412-8604-73294727f0fa",
   "metadata": {},
   "outputs": [
    {
     "name": "stdout",
     "output_type": "stream",
     "text": [
      "5\n"
     ]
    }
   ],
   "source": [
    "# Question 68.) Explain the role of setter methods in Python. Demostrate how to use a setter method to modify a class attribute using \n",
    "#               property decorators.\n",
    "\n",
    "# Answer >> Setter methods helps to set new values to attributes of a class using property decorator.\n",
    "\n",
    "class Circle:\n",
    "    def __init__(self,radius):\n",
    "        self.__radius = radius\n",
    "        \n",
    "    @property\n",
    "    def get_radius(self):\n",
    "        return self.__radius\n",
    "    \n",
    "    @get_radius.setter\n",
    "    def set_radius(self,new_radius):\n",
    "        self.__radius = new_radius\n",
    "        \n",
    "c = Circle(5)\n",
    "print(c.get_radius)\n",
    "c.set_radius = 10"
   ]
  },
  {
   "cell_type": "code",
   "execution_count": 22,
   "id": "1c7559bb-d261-41f7-829b-df2e00fb3880",
   "metadata": {},
   "outputs": [
    {
     "name": "stdout",
     "output_type": "stream",
     "text": [
      "5\n"
     ]
    }
   ],
   "source": [
    "# Question 69.) What is the purpose of the @property decorator in Python? Provide an example illustrating its usage.\n",
    "\n",
    "# Answer >> Property decorator in Python provides a way to manage the attributes of a class by allowing you to define methods that act \n",
    "#           as getters, setters, and deleters for an attribute.\n",
    "\n",
    "class Circle:\n",
    "    def __init__(self,radius):\n",
    "        self.__radius = radius\n",
    "        \n",
    "    @property\n",
    "    def get_radius(self):\n",
    "        return self.__radius\n",
    "    \n",
    "    @get_radius.setter\n",
    "    def set_radius(self,new_radius):\n",
    "        self.__radius = new_radius\n",
    "        \n",
    "    @get_radius.deleter\n",
    "    def  delete_radius(self):\n",
    "        del self.__radius\n",
    "        \n",
    "c = Circle(5)\n",
    "print(c.get_radius)\n",
    "c.set_radius = 10\n",
    "del c.delete_radius"
   ]
  },
  {
   "cell_type": "code",
   "execution_count": 23,
   "id": "91d896b0-a649-4ad1-b3ad-449576151a2e",
   "metadata": {},
   "outputs": [
    {
     "name": "stdout",
     "output_type": "stream",
     "text": [
      "5\n"
     ]
    },
    {
     "ename": "AttributeError",
     "evalue": "'Circle' object has no attribute '_Circle__radius'",
     "output_type": "error",
     "traceback": [
      "\u001b[0;31m---------------------------------------------------------------------------\u001b[0m",
      "\u001b[0;31mAttributeError\u001b[0m                            Traceback (most recent call last)",
      "Cell \u001b[0;32mIn[23], line 25\u001b[0m\n\u001b[1;32m     23\u001b[0m c\u001b[38;5;241m.\u001b[39mset_radius \u001b[38;5;241m=\u001b[39m \u001b[38;5;241m10\u001b[39m\n\u001b[1;32m     24\u001b[0m \u001b[38;5;28;01mdel\u001b[39;00m c\u001b[38;5;241m.\u001b[39mdelete_radius\n\u001b[0;32m---> 25\u001b[0m \u001b[43mc\u001b[49m\u001b[38;5;241;43m.\u001b[39;49m\u001b[43mget_radius\u001b[49m\n",
      "Cell \u001b[0;32mIn[23], line 11\u001b[0m, in \u001b[0;36mCircle.get_radius\u001b[0;34m(self)\u001b[0m\n\u001b[1;32m      9\u001b[0m \u001b[38;5;129m@property\u001b[39m\n\u001b[1;32m     10\u001b[0m \u001b[38;5;28;01mdef\u001b[39;00m \u001b[38;5;21mget_radius\u001b[39m(\u001b[38;5;28mself\u001b[39m):\n\u001b[0;32m---> 11\u001b[0m     \u001b[38;5;28;01mreturn\u001b[39;00m \u001b[38;5;28;43mself\u001b[39;49m\u001b[38;5;241;43m.\u001b[39;49m\u001b[43m__radius\u001b[49m\n",
      "\u001b[0;31mAttributeError\u001b[0m: 'Circle' object has no attribute '_Circle__radius'"
     ]
    }
   ],
   "source": [
    "# Question 70.) Explain the use of the @deleter decorator in Python property decorator. Provide a code example demonstrating its application.\n",
    "\n",
    "# Answer >> Deleter decorator helps deleting the attributes of the class directly as a property.\n",
    "\n",
    "class Circle:\n",
    "    def __init__(self,radius):\n",
    "        self.__radius = radius\n",
    "        \n",
    "    @property\n",
    "    def get_radius(self):\n",
    "        return self.__radius\n",
    "    \n",
    "    @get_radius.setter\n",
    "    def set_radius(self,new_radius):\n",
    "        self.__radius = new_radius\n",
    "        \n",
    "    @get_radius.deleter\n",
    "    def  delete_radius(self):\n",
    "        del self.__radius\n",
    "        \n",
    "c = Circle(5)\n",
    "print(c.get_radius)\n",
    "c.set_radius = 10\n",
    "del c.delete_radius\n",
    "c.get_radius"
   ]
  },
  {
   "cell_type": "code",
   "execution_count": null,
   "id": "26685e8a-6657-4b22-995e-52ff445e0857",
   "metadata": {},
   "outputs": [],
   "source": [
    "# Question 71.) How does encapsulation relate to property decorators in Python. Provide an example showcasing encapsulation using property\n",
    "#               decorators.\n",
    "\n",
    "# Answer >> In Python encapsulation is often achieved using private attributes and property decorators.\n",
    "\n",
    "class BankAccount:\n",
    "    def __init__(self, initial_balance):\n",
    "        self._balance = initial_balance  # Private attribute\n",
    "    \n",
    "    @property\n",
    "    def balance(self):\n",
    "        return self._balance\n",
    "    \n",
    "    def deposit(self, amount):\n",
    "        self._balance += amount\n",
    "    \n",
    "    def withdraw(self, amount):\n",
    "        self._balance -= amount\n",
    "        \n",
    "a = BankAccount(1000)\n",
    "\n",
    "print(a.balance)\n",
    "\n",
    "a.deposit(500)\n",
    "print(a.balance)\n",
    "\n",
    "a.withdraw(200)\n",
    "print(a.balance)"
   ]
  }
 ],
 "metadata": {
  "kernelspec": {
   "display_name": "Python 3 (ipykernel)",
   "language": "python",
   "name": "python3"
  },
  "language_info": {
   "codemirror_mode": {
    "name": "ipython",
    "version": 3
   },
   "file_extension": ".py",
   "mimetype": "text/x-python",
   "name": "python",
   "nbconvert_exporter": "python",
   "pygments_lexer": "ipython3",
   "version": "3.10.8"
  }
 },
 "nbformat": 4,
 "nbformat_minor": 5
}
